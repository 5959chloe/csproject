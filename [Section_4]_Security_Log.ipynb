{
  "nbformat": 4,
  "nbformat_minor": 0,
  "metadata": {
    "colab": {
      "name": "[Section 4] Security Log.ipynb",
      "provenance": []
    },
    "kernelspec": {
      "name": "python3",
      "display_name": "Python 3"
    },
    "language_info": {
      "name": "python"
    }
  },
  "cells": [
    {
      "cell_type": "markdown",
      "metadata": {
        "id": "5vMGmvD2U-rR"
      },
      "source": [
        "# **Part 1. 데이터 선정 이유 및 문제 정의**\n"
      ]
    },
    {
      "cell_type": "markdown",
      "metadata": {
        "id": "ewvzhfV97WL5"
      },
      "source": [
        "> 데이터 선정 이유: \n",
        "* 올해 여름 한국 원자력 연구원이 사이버테러 공격을 당한 뉴스를 보고 이 데이터셋으로 로그데이터를 통한 보안 위험도 예측과 공격 탐지를 학습해보기로 결정하였습니다.\n",
        "\n",
        "\n",
        "> 이번 프로젝트의 목적 및 데이터셋 활용 방안:\n",
        "* 기존에 확인된 위험요소는 위험도를 0~6까지 총 7단계로 분류가 되어있고, 새로운 위험요소를 7로 지정하여 총 8단계로 분류하는 모델을 만들어볼 계획입니다. 새로운 형태의 침해시에는, 프로세스의 동작패턴이나 명령어의 사용종류가 달라지므로, 로그데이터의 분석을 통해서 기존에 없던 패턴의 새로운 공격에 직면하였을 때에 신속하고 정확하게 대비할 수 있도록 모델링을 해보겠습니다.\n"
      ]
    },
    {
      "cell_type": "markdown",
      "metadata": {
        "id": "DQLf5c5B8Ugs"
      },
      "source": [
        "# **Part 2. 데이터셋과 필요한 라이브러리 호출**"
      ]
    },
    {
      "cell_type": "markdown",
      "metadata": {
        "id": "MIQZjzlGqVwc"
      },
      "source": [
        "### **1. 데이터 불러오기**"
      ]
    },
    {
      "cell_type": "code",
      "metadata": {
        "id": "9ubQ4Q9KuyPI"
      },
      "source": [
        "import pandas as pd\n",
        "import numpy as np\n",
        "import random\n",
        "import re\n",
        "import os\n",
        "import gc\n",
        "\n",
        "from sklearn.model_selection import train_test_split\n",
        "from sklearn.feature_extraction.text import CountVectorizer\n",
        "from sklearn.feature_extraction.text import TfidfVectorizer\n",
        "from sklearn.ensemble import RandomForestClassifier\n",
        "from sklearn.ensemble import ExtraTreesClassifier\n",
        "from sklearn.metrics import f1_score\n",
        "import matplotlib.pyplot as plt\n",
        "import tensorflow as tf\n",
        "from tqdm import tqdm\n",
        "\n",
        "import warnings\n",
        "warnings.filterwarnings('ignore')\n",
        "\n",
        "pd.set_option('display.max_colwidth', None)"
      ],
      "execution_count": 1,
      "outputs": []
    },
    {
      "cell_type": "code",
      "metadata": {
        "id": "yuoC_RSPueDA"
      },
      "source": [
        "train = pd.read_csv('/content/drive/MyDrive/security_log/train.csv')\n",
        "test = pd.read_csv('/content/drive/MyDrive/security_log/test.csv')\n",
        "sample_submit = pd.read_csv('/content/drive/MyDrive/security_log/sample_submission.csv')"
      ],
      "execution_count": 2,
      "outputs": []
    },
    {
      "cell_type": "code",
      "metadata": {
        "colab": {
          "base_uri": "https://localhost:8080/",
          "height": 329
        },
        "id": "gu5LC8qEu04n",
        "outputId": "5c9ff3af-b2c1-4982-fd94-e849e63fa258"
      },
      "source": [
        "print(train.shape)\n",
        "train.head(3)"
      ],
      "execution_count": 3,
      "outputs": [
        {
          "output_type": "stream",
          "name": "stdout",
          "text": [
            "(472972, 3)\n"
          ]
        },
        {
          "output_type": "execute_result",
          "data": {
            "text/html": [
              "<div>\n",
              "<style scoped>\n",
              "    .dataframe tbody tr th:only-of-type {\n",
              "        vertical-align: middle;\n",
              "    }\n",
              "\n",
              "    .dataframe tbody tr th {\n",
              "        vertical-align: top;\n",
              "    }\n",
              "\n",
              "    .dataframe thead th {\n",
              "        text-align: right;\n",
              "    }\n",
              "</style>\n",
              "<table border=\"1\" class=\"dataframe\">\n",
              "  <thead>\n",
              "    <tr style=\"text-align: right;\">\n",
              "      <th></th>\n",
              "      <th>id</th>\n",
              "      <th>level</th>\n",
              "      <th>full_log</th>\n",
              "    </tr>\n",
              "  </thead>\n",
              "  <tbody>\n",
              "    <tr>\n",
              "      <th>0</th>\n",
              "      <td>0</td>\n",
              "      <td>0</td>\n",
              "      <td>Sep 24 10:02:22 localhost kibana: {\"type\":\"error\",\"@timestamp\":\"2020-09-24T01:02:22Z\",\"tags\":[\"warning\",\"stats-collection\"],\"pid\":6458,\"level\":\"error\",\"error\":{\"message\":\"No Living connections\",\"name\":\"Error\",\"stack\":\"Error: No Living connections\\n    at sendReqWithConnection (/usr/share/kibana/node_modules/elasticsearch/src/lib/transport.js:226:15)\\n    at next (/usr/share/kibana/node_modules/elasticsearch/src/lib/connection_pool.js:214:7)\\n    at process._tickCallback (internal/process/next_tick.js:61:11)\"},\"message\":\"No Living connections\"}</td>\n",
              "    </tr>\n",
              "    <tr>\n",
              "      <th>1</th>\n",
              "      <td>1</td>\n",
              "      <td>0</td>\n",
              "      <td>Feb  8 16:21:00 localhost logstash: [2021-02-08T16:21:00,548][INFO ][logstash.outputs.elasticsearch] retrying failed action with response code: 503 ({\"type\"=&gt;\"unavailable_shards_exception\", \"reason\"=&gt;\"[wazuh-alerts-audit-3.x-2021.16.08][3] primary shard is not active Timeout: [1m], request: [BulkShardRequest [[wazuh-alerts-audit-3.x-2021.16.08][3]] containing [25] requests]\"})</td>\n",
              "    </tr>\n",
              "    <tr>\n",
              "      <th>2</th>\n",
              "      <td>2</td>\n",
              "      <td>0</td>\n",
              "      <td>Jan 13 01:50:40 localhost kibana: {\"type\":\"error\",\"@timestamp\":\"2021-01-12T16:50:40Z\",\"tags\":[\"warning\",\"stats-collection\"],\"pid\":4332,\"level\":\"error\",\"error\":{\"message\":\"No Living connections\",\"name\":\"Error\",\"stack\":\"Error: No Living connections\\n    at sendReqWithConnection (/usr/share/kibana/node_modules/elasticsearch/src/lib/transport.js:226:15)\\n    at next (/usr/share/kibana/node_modules/elasticsearch/src/lib/connection_pool.js:214:7)\\n    at process._tickCallback (internal/process/next_tick.js:61:11)\"},\"message\":\"No Living connections\"}</td>\n",
              "    </tr>\n",
              "  </tbody>\n",
              "</table>\n",
              "</div>"
            ],
            "text/plain": [
              "   id  ...                                                                                                                                                                                                                                                                                                                                                                                                                                                                                                                                                               full_log\n",
              "0   0  ...  Sep 24 10:02:22 localhost kibana: {\"type\":\"error\",\"@timestamp\":\"2020-09-24T01:02:22Z\",\"tags\":[\"warning\",\"stats-collection\"],\"pid\":6458,\"level\":\"error\",\"error\":{\"message\":\"No Living connections\",\"name\":\"Error\",\"stack\":\"Error: No Living connections\\n    at sendReqWithConnection (/usr/share/kibana/node_modules/elasticsearch/src/lib/transport.js:226:15)\\n    at next (/usr/share/kibana/node_modules/elasticsearch/src/lib/connection_pool.js:214:7)\\n    at process._tickCallback (internal/process/next_tick.js:61:11)\"},\"message\":\"No Living connections\"}\n",
              "1   1  ...                                                                                                                                                                            Feb  8 16:21:00 localhost logstash: [2021-02-08T16:21:00,548][INFO ][logstash.outputs.elasticsearch] retrying failed action with response code: 503 ({\"type\"=>\"unavailable_shards_exception\", \"reason\"=>\"[wazuh-alerts-audit-3.x-2021.16.08][3] primary shard is not active Timeout: [1m], request: [BulkShardRequest [[wazuh-alerts-audit-3.x-2021.16.08][3]] containing [25] requests]\"})\n",
              "2   2  ...  Jan 13 01:50:40 localhost kibana: {\"type\":\"error\",\"@timestamp\":\"2021-01-12T16:50:40Z\",\"tags\":[\"warning\",\"stats-collection\"],\"pid\":4332,\"level\":\"error\",\"error\":{\"message\":\"No Living connections\",\"name\":\"Error\",\"stack\":\"Error: No Living connections\\n    at sendReqWithConnection (/usr/share/kibana/node_modules/elasticsearch/src/lib/transport.js:226:15)\\n    at next (/usr/share/kibana/node_modules/elasticsearch/src/lib/connection_pool.js:214:7)\\n    at process._tickCallback (internal/process/next_tick.js:61:11)\"},\"message\":\"No Living connections\"}\n",
              "\n",
              "[3 rows x 3 columns]"
            ]
          },
          "metadata": {},
          "execution_count": 3
        }
      ]
    },
    {
      "cell_type": "code",
      "metadata": {
        "colab": {
          "base_uri": "https://localhost:8080/",
          "height": 499
        },
        "id": "NUpe55aBIPlY",
        "outputId": "e84511cb-2e9f-4d34-8442-947ca852120d"
      },
      "source": [
        "print(test.shape)\n",
        "test.head(3)"
      ],
      "execution_count": 4,
      "outputs": [
        {
          "output_type": "stream",
          "name": "stdout",
          "text": [
            "(1418916, 2)\n"
          ]
        },
        {
          "output_type": "execute_result",
          "data": {
            "text/html": [
              "<div>\n",
              "<style scoped>\n",
              "    .dataframe tbody tr th:only-of-type {\n",
              "        vertical-align: middle;\n",
              "    }\n",
              "\n",
              "    .dataframe tbody tr th {\n",
              "        vertical-align: top;\n",
              "    }\n",
              "\n",
              "    .dataframe thead th {\n",
              "        text-align: right;\n",
              "    }\n",
              "</style>\n",
              "<table border=\"1\" class=\"dataframe\">\n",
              "  <thead>\n",
              "    <tr style=\"text-align: right;\">\n",
              "      <th></th>\n",
              "      <th>id</th>\n",
              "      <th>full_log</th>\n",
              "    </tr>\n",
              "  </thead>\n",
              "  <tbody>\n",
              "    <tr>\n",
              "      <th>0</th>\n",
              "      <td>1000000</td>\n",
              "      <td>Feb  8 15:47:26 localhost kibana: {\"type\":\"error\",\"@timestamp\":\"2021-02-08T06:47:26Z\",\"tags\":[\"warning\",\"stats-collection\"],\"pid\":4604,\"level\":\"error\",\"error\":{\"message\":\"[search_phase_execution_exception] all shards failed\",\"name\":\"Error\",\"stack\":\"[search_phase_execution_exception] all shards failed :: {\\\"path\\\":\\\"/.kibana_task_manager/_doc/_search\\\",\\\"query\\\":{\\\"ignore_unavailable\\\":true},\\\"body\\\":\\\"{\\\\\\\"sort\\\\\\\":[{\\\\\\\"task.runAt\\\\\\\":\\\\\\\"asc\\\\\\\"},{\\\\\\\"_id\\\\\\\":\\\\\\\"desc\\\\\\\"}],\\\\\\\"query\\\\\\\":{\\\\\\\"bool\\\\\\\":{\\\\\\\"must\\\\\\\":[{\\\\\\\"term\\\\\\\":{\\\\\\\"type\\\\\\\":\\\\\\\"task\\\\\\\"}},{\\\\\\\"bool\\\\\\\":{\\\\\\\"filter\\\\\\\":{\\\\\\\"term\\\\\\\":{\\\\\\\"_id\\\\\\\":\\\\\\\"oss_telemetry-vis_telemetry\\\\\\\"}}}}]}}}\\\",\\\"statusCode\\\":503,\\\"response\\\":\\\"{\\\\\\\"error\\\\\\\":{\\\\\\\"root_cause\\\\\\\":[],\\\\\\\"type\\\\\\\":\\\\\\\"search_phase_execution_exception\\\\\\\",\\\\\\\"reason\\\\\\\":\\\\\\\"all shards failed\\\\\\\",\\\\\\\"phase\\\\\\\":\\\\\\\"query\\\\\\\",\\\\\\\"grouped\\\\\\\":true,\\\\\\\"failed_shards\\\\\\\":[]},\\\\\\\"status\\\\\\\":503}\\\"}\\n    at respond (/usr/share/kibana/node_modules/elasticsearch/src/lib/transport.js:308:15)\\n    at checkRespForFailure (/usr/share/kibana/node_modules/elasticsearch/src/lib/transport.js:267:7)\\n    at HttpConnector.&lt;anonymous&gt; (/usr/share/kibana/node_modules/elasticsearch/src/lib/connectors/http.js:166:7)\\n    at IncomingMessage.wrapper (/usr/share/kibana/node_modules/elasticsearch/node_modules/lodash/lodash.js:4935:19)\\n    at IncomingMessage.emit (events.js:194:15)\\n    at endReadableNT (_stream_readable.js:1103:12)\\n    at process._tickCallback (internal/process/next_tick.js:63:19)\"},\"message\":\"[search_phase_execution_exception] all shards failed\"}</td>\n",
              "    </tr>\n",
              "    <tr>\n",
              "      <th>1</th>\n",
              "      <td>1000001</td>\n",
              "      <td>Sep 24 03:46:39 localhost kibana: {\"type\":\"error\",\"@timestamp\":\"2020-09-23T18:46:39Z\",\"tags\":[\"warning\",\"stats-collection\"],\"pid\":6458,\"level\":\"error\",\"error\":{\"message\":\"No Living connections\",\"name\":\"Error\",\"stack\":\"Error: No Living connections\\n    at sendReqWithConnection (/usr/share/kibana/node_modules/elasticsearch/src/lib/transport.js:226:15)\\n    at next (/usr/share/kibana/node_modules/elasticsearch/src/lib/connection_pool.js:214:7)\\n    at process._tickCallback (internal/process/next_tick.js:61:11)\"},\"message\":\"No Living connections\"}</td>\n",
              "    </tr>\n",
              "    <tr>\n",
              "      <th>2</th>\n",
              "      <td>1000002</td>\n",
              "      <td>type=SYSCALL msg=audit(1611888200.428:210563): arch=c000003e syscall=257 success=yes exit=10 a0=ffffffffffffff9c a1=7f89fd9c9030 a2=90800 a3=0 items=1 ppid=1 pid=86518 auid=4294967295 uid=0 gid=980 euid=0 suid=0 fsuid=0 egid=980 sgid=980 fsgid=980 tty=(none) ses=4294967295 comm=\"ossec-syscheckd\" exe=\"/var/esild/bin/ossec-syscheckd\" subj=system_u:system_r:unconfined_service_t:s0 key=\"audit-wazuh-r\" type=CWD msg=audit(1611888200.428:210563):  cwd=\"/\" type=PATH msg=audit(1611888200.428:210563): item=0 name=\"/etc/java/security/security.d\" inode=34054258 dev=fd:00 mode=040755 ouid=0 ogid=0 rdev=00:00 obj=system_u:object_r:etc_t:s0 objtype=NORMAL cap_fp=0000000000000000 cap_fi=0000000000000000 cap_fe=0 cap_fver=0 type=PROCTITLE msg=audit(1611888200.428:210563): proctitle=\"/var/esild/bin/ossec-syscheckd\"</td>\n",
              "    </tr>\n",
              "  </tbody>\n",
              "</table>\n",
              "</div>"
            ],
            "text/plain": [
              "        id                                                                                                                                                                                                                                                                                                                                                                                                                                                                                                                                                                                                                                                                                                                                                                                                                                                                                                                                                                                                                                                                                                                                                                                                                                                                                                                                                                                                                                                                                                                                                                                                                                                    full_log\n",
              "0  1000000  Feb  8 15:47:26 localhost kibana: {\"type\":\"error\",\"@timestamp\":\"2021-02-08T06:47:26Z\",\"tags\":[\"warning\",\"stats-collection\"],\"pid\":4604,\"level\":\"error\",\"error\":{\"message\":\"[search_phase_execution_exception] all shards failed\",\"name\":\"Error\",\"stack\":\"[search_phase_execution_exception] all shards failed :: {\\\"path\\\":\\\"/.kibana_task_manager/_doc/_search\\\",\\\"query\\\":{\\\"ignore_unavailable\\\":true},\\\"body\\\":\\\"{\\\\\\\"sort\\\\\\\":[{\\\\\\\"task.runAt\\\\\\\":\\\\\\\"asc\\\\\\\"},{\\\\\\\"_id\\\\\\\":\\\\\\\"desc\\\\\\\"}],\\\\\\\"query\\\\\\\":{\\\\\\\"bool\\\\\\\":{\\\\\\\"must\\\\\\\":[{\\\\\\\"term\\\\\\\":{\\\\\\\"type\\\\\\\":\\\\\\\"task\\\\\\\"}},{\\\\\\\"bool\\\\\\\":{\\\\\\\"filter\\\\\\\":{\\\\\\\"term\\\\\\\":{\\\\\\\"_id\\\\\\\":\\\\\\\"oss_telemetry-vis_telemetry\\\\\\\"}}}}]}}}\\\",\\\"statusCode\\\":503,\\\"response\\\":\\\"{\\\\\\\"error\\\\\\\":{\\\\\\\"root_cause\\\\\\\":[],\\\\\\\"type\\\\\\\":\\\\\\\"search_phase_execution_exception\\\\\\\",\\\\\\\"reason\\\\\\\":\\\\\\\"all shards failed\\\\\\\",\\\\\\\"phase\\\\\\\":\\\\\\\"query\\\\\\\",\\\\\\\"grouped\\\\\\\":true,\\\\\\\"failed_shards\\\\\\\":[]},\\\\\\\"status\\\\\\\":503}\\\"}\\n    at respond (/usr/share/kibana/node_modules/elasticsearch/src/lib/transport.js:308:15)\\n    at checkRespForFailure (/usr/share/kibana/node_modules/elasticsearch/src/lib/transport.js:267:7)\\n    at HttpConnector.<anonymous> (/usr/share/kibana/node_modules/elasticsearch/src/lib/connectors/http.js:166:7)\\n    at IncomingMessage.wrapper (/usr/share/kibana/node_modules/elasticsearch/node_modules/lodash/lodash.js:4935:19)\\n    at IncomingMessage.emit (events.js:194:15)\\n    at endReadableNT (_stream_readable.js:1103:12)\\n    at process._tickCallback (internal/process/next_tick.js:63:19)\"},\"message\":\"[search_phase_execution_exception] all shards failed\"}\n",
              "1  1000001                                                                                                                                                                                                                                                                                                                                                                                                                                                                                                                                                                                                                                                                                                                                                                                                                                                                                                                                                                                                                                                                                       Sep 24 03:46:39 localhost kibana: {\"type\":\"error\",\"@timestamp\":\"2020-09-23T18:46:39Z\",\"tags\":[\"warning\",\"stats-collection\"],\"pid\":6458,\"level\":\"error\",\"error\":{\"message\":\"No Living connections\",\"name\":\"Error\",\"stack\":\"Error: No Living connections\\n    at sendReqWithConnection (/usr/share/kibana/node_modules/elasticsearch/src/lib/transport.js:226:15)\\n    at next (/usr/share/kibana/node_modules/elasticsearch/src/lib/connection_pool.js:214:7)\\n    at process._tickCallback (internal/process/next_tick.js:61:11)\"},\"message\":\"No Living connections\"}\n",
              "2  1000002                                                                                                                                                                                                                                                                                                                                                                                                                                                                                                                                                                                                                                                                                                                                                                                                                    type=SYSCALL msg=audit(1611888200.428:210563): arch=c000003e syscall=257 success=yes exit=10 a0=ffffffffffffff9c a1=7f89fd9c9030 a2=90800 a3=0 items=1 ppid=1 pid=86518 auid=4294967295 uid=0 gid=980 euid=0 suid=0 fsuid=0 egid=980 sgid=980 fsgid=980 tty=(none) ses=4294967295 comm=\"ossec-syscheckd\" exe=\"/var/esild/bin/ossec-syscheckd\" subj=system_u:system_r:unconfined_service_t:s0 key=\"audit-wazuh-r\" type=CWD msg=audit(1611888200.428:210563):  cwd=\"/\" type=PATH msg=audit(1611888200.428:210563): item=0 name=\"/etc/java/security/security.d\" inode=34054258 dev=fd:00 mode=040755 ouid=0 ogid=0 rdev=00:00 obj=system_u:object_r:etc_t:s0 objtype=NORMAL cap_fp=0000000000000000 cap_fi=0000000000000000 cap_fe=0 cap_fver=0 type=PROCTITLE msg=audit(1611888200.428:210563): proctitle=\"/var/esild/bin/ossec-syscheckd\""
            ]
          },
          "metadata": {},
          "execution_count": 4
        }
      ]
    },
    {
      "cell_type": "code",
      "metadata": {
        "colab": {
          "base_uri": "https://localhost:8080/",
          "height": 159
        },
        "id": "No6u71IqIg7o",
        "outputId": "2e249e86-eba5-45a9-fd7f-f76951c972a1"
      },
      "source": [
        "print(sample_submit.shape)\n",
        "sample_submit.head(3)"
      ],
      "execution_count": 5,
      "outputs": [
        {
          "output_type": "stream",
          "name": "stdout",
          "text": [
            "(1418916, 2)\n"
          ]
        },
        {
          "output_type": "execute_result",
          "data": {
            "text/html": [
              "<div>\n",
              "<style scoped>\n",
              "    .dataframe tbody tr th:only-of-type {\n",
              "        vertical-align: middle;\n",
              "    }\n",
              "\n",
              "    .dataframe tbody tr th {\n",
              "        vertical-align: top;\n",
              "    }\n",
              "\n",
              "    .dataframe thead th {\n",
              "        text-align: right;\n",
              "    }\n",
              "</style>\n",
              "<table border=\"1\" class=\"dataframe\">\n",
              "  <thead>\n",
              "    <tr style=\"text-align: right;\">\n",
              "      <th></th>\n",
              "      <th>id</th>\n",
              "      <th>level</th>\n",
              "    </tr>\n",
              "  </thead>\n",
              "  <tbody>\n",
              "    <tr>\n",
              "      <th>0</th>\n",
              "      <td>1000000</td>\n",
              "      <td>0</td>\n",
              "    </tr>\n",
              "    <tr>\n",
              "      <th>1</th>\n",
              "      <td>1000001</td>\n",
              "      <td>0</td>\n",
              "    </tr>\n",
              "    <tr>\n",
              "      <th>2</th>\n",
              "      <td>1000002</td>\n",
              "      <td>0</td>\n",
              "    </tr>\n",
              "  </tbody>\n",
              "</table>\n",
              "</div>"
            ],
            "text/plain": [
              "        id  level\n",
              "0  1000000      0\n",
              "1  1000001      0\n",
              "2  1000002      0"
            ]
          },
          "metadata": {},
          "execution_count": 5
        }
      ]
    },
    {
      "cell_type": "markdown",
      "metadata": {
        "id": "1UV4TiYrWBph"
      },
      "source": [
        "### **2. 데이터 전처리**"
      ]
    },
    {
      "cell_type": "markdown",
      "metadata": {
        "id": "MbVOBtLQ9Q0Z"
      },
      "source": [
        "> **중복값과 결측치 처리**"
      ]
    },
    {
      "cell_type": "code",
      "metadata": {
        "colab": {
          "base_uri": "https://localhost:8080/"
        },
        "id": "GyYvELPLMZfs",
        "outputId": "9f915d53-d145-4133-9e3c-1ba41b6724ec"
      },
      "source": [
        "train.isnull().sum()"
      ],
      "execution_count": 6,
      "outputs": [
        {
          "output_type": "execute_result",
          "data": {
            "text/plain": [
              "id          0\n",
              "level       0\n",
              "full_log    0\n",
              "dtype: int64"
            ]
          },
          "metadata": {},
          "execution_count": 6
        }
      ]
    },
    {
      "cell_type": "code",
      "metadata": {
        "colab": {
          "base_uri": "https://localhost:8080/"
        },
        "id": "KEul4TumMfcJ",
        "outputId": "e49279b3-69e0-4379-c684-bbf98eed56b2"
      },
      "source": [
        "test.isnull().sum()"
      ],
      "execution_count": 7,
      "outputs": [
        {
          "output_type": "execute_result",
          "data": {
            "text/plain": [
              "id          0\n",
              "full_log    0\n",
              "dtype: int64"
            ]
          },
          "metadata": {},
          "execution_count": 7
        }
      ]
    },
    {
      "cell_type": "code",
      "metadata": {
        "colab": {
          "base_uri": "https://localhost:8080/"
        },
        "id": "MFn9B6GxMjJz",
        "outputId": "100f70c6-8c11-4620-e8c6-2b06111718ad"
      },
      "source": [
        "sample_submit.isnull().sum()"
      ],
      "execution_count": 8,
      "outputs": [
        {
          "output_type": "execute_result",
          "data": {
            "text/plain": [
              "id       0\n",
              "level    0\n",
              "dtype: int64"
            ]
          },
          "metadata": {},
          "execution_count": 8
        }
      ]
    },
    {
      "cell_type": "markdown",
      "metadata": {
        "id": "AFsUVnMx96Tr"
      },
      "source": [
        "> **데이터 전처리**"
      ]
    },
    {
      "cell_type": "code",
      "metadata": {
        "colab": {
          "base_uri": "https://localhost:8080/",
          "height": 312
        },
        "id": "EB7aVssj-DQ-",
        "outputId": "9eb9986a-8ded-4ee7-eb84-69186c009eef"
      },
      "source": [
        "train.head(3)"
      ],
      "execution_count": 9,
      "outputs": [
        {
          "output_type": "execute_result",
          "data": {
            "text/html": [
              "<div>\n",
              "<style scoped>\n",
              "    .dataframe tbody tr th:only-of-type {\n",
              "        vertical-align: middle;\n",
              "    }\n",
              "\n",
              "    .dataframe tbody tr th {\n",
              "        vertical-align: top;\n",
              "    }\n",
              "\n",
              "    .dataframe thead th {\n",
              "        text-align: right;\n",
              "    }\n",
              "</style>\n",
              "<table border=\"1\" class=\"dataframe\">\n",
              "  <thead>\n",
              "    <tr style=\"text-align: right;\">\n",
              "      <th></th>\n",
              "      <th>id</th>\n",
              "      <th>level</th>\n",
              "      <th>full_log</th>\n",
              "    </tr>\n",
              "  </thead>\n",
              "  <tbody>\n",
              "    <tr>\n",
              "      <th>0</th>\n",
              "      <td>0</td>\n",
              "      <td>0</td>\n",
              "      <td>Sep 24 10:02:22 localhost kibana: {\"type\":\"error\",\"@timestamp\":\"2020-09-24T01:02:22Z\",\"tags\":[\"warning\",\"stats-collection\"],\"pid\":6458,\"level\":\"error\",\"error\":{\"message\":\"No Living connections\",\"name\":\"Error\",\"stack\":\"Error: No Living connections\\n    at sendReqWithConnection (/usr/share/kibana/node_modules/elasticsearch/src/lib/transport.js:226:15)\\n    at next (/usr/share/kibana/node_modules/elasticsearch/src/lib/connection_pool.js:214:7)\\n    at process._tickCallback (internal/process/next_tick.js:61:11)\"},\"message\":\"No Living connections\"}</td>\n",
              "    </tr>\n",
              "    <tr>\n",
              "      <th>1</th>\n",
              "      <td>1</td>\n",
              "      <td>0</td>\n",
              "      <td>Feb  8 16:21:00 localhost logstash: [2021-02-08T16:21:00,548][INFO ][logstash.outputs.elasticsearch] retrying failed action with response code: 503 ({\"type\"=&gt;\"unavailable_shards_exception\", \"reason\"=&gt;\"[wazuh-alerts-audit-3.x-2021.16.08][3] primary shard is not active Timeout: [1m], request: [BulkShardRequest [[wazuh-alerts-audit-3.x-2021.16.08][3]] containing [25] requests]\"})</td>\n",
              "    </tr>\n",
              "    <tr>\n",
              "      <th>2</th>\n",
              "      <td>2</td>\n",
              "      <td>0</td>\n",
              "      <td>Jan 13 01:50:40 localhost kibana: {\"type\":\"error\",\"@timestamp\":\"2021-01-12T16:50:40Z\",\"tags\":[\"warning\",\"stats-collection\"],\"pid\":4332,\"level\":\"error\",\"error\":{\"message\":\"No Living connections\",\"name\":\"Error\",\"stack\":\"Error: No Living connections\\n    at sendReqWithConnection (/usr/share/kibana/node_modules/elasticsearch/src/lib/transport.js:226:15)\\n    at next (/usr/share/kibana/node_modules/elasticsearch/src/lib/connection_pool.js:214:7)\\n    at process._tickCallback (internal/process/next_tick.js:61:11)\"},\"message\":\"No Living connections\"}</td>\n",
              "    </tr>\n",
              "  </tbody>\n",
              "</table>\n",
              "</div>"
            ],
            "text/plain": [
              "   id  ...                                                                                                                                                                                                                                                                                                                                                                                                                                                                                                                                                               full_log\n",
              "0   0  ...  Sep 24 10:02:22 localhost kibana: {\"type\":\"error\",\"@timestamp\":\"2020-09-24T01:02:22Z\",\"tags\":[\"warning\",\"stats-collection\"],\"pid\":6458,\"level\":\"error\",\"error\":{\"message\":\"No Living connections\",\"name\":\"Error\",\"stack\":\"Error: No Living connections\\n    at sendReqWithConnection (/usr/share/kibana/node_modules/elasticsearch/src/lib/transport.js:226:15)\\n    at next (/usr/share/kibana/node_modules/elasticsearch/src/lib/connection_pool.js:214:7)\\n    at process._tickCallback (internal/process/next_tick.js:61:11)\"},\"message\":\"No Living connections\"}\n",
              "1   1  ...                                                                                                                                                                            Feb  8 16:21:00 localhost logstash: [2021-02-08T16:21:00,548][INFO ][logstash.outputs.elasticsearch] retrying failed action with response code: 503 ({\"type\"=>\"unavailable_shards_exception\", \"reason\"=>\"[wazuh-alerts-audit-3.x-2021.16.08][3] primary shard is not active Timeout: [1m], request: [BulkShardRequest [[wazuh-alerts-audit-3.x-2021.16.08][3]] containing [25] requests]\"})\n",
              "2   2  ...  Jan 13 01:50:40 localhost kibana: {\"type\":\"error\",\"@timestamp\":\"2021-01-12T16:50:40Z\",\"tags\":[\"warning\",\"stats-collection\"],\"pid\":4332,\"level\":\"error\",\"error\":{\"message\":\"No Living connections\",\"name\":\"Error\",\"stack\":\"Error: No Living connections\\n    at sendReqWithConnection (/usr/share/kibana/node_modules/elasticsearch/src/lib/transport.js:226:15)\\n    at next (/usr/share/kibana/node_modules/elasticsearch/src/lib/connection_pool.js:214:7)\\n    at process._tickCallback (internal/process/next_tick.js:61:11)\"},\"message\":\"No Living connections\"}\n",
              "\n",
              "[3 rows x 3 columns]"
            ]
          },
          "metadata": {},
          "execution_count": 9
        }
      ]
    },
    {
      "cell_type": "code",
      "metadata": {
        "id": "aOo23rUna9Sm"
      },
      "source": [
        "train = train.drop('id', axis=1)"
      ],
      "execution_count": 10,
      "outputs": []
    },
    {
      "cell_type": "code",
      "metadata": {
        "id": "BL7du5SZWFe7",
        "colab": {
          "base_uri": "https://localhost:8080/"
        },
        "outputId": "634a3184-f810-41b3-ba9b-72473d9c1a4a"
      },
      "source": [
        "train['level'].value_counts()"
      ],
      "execution_count": 11,
      "outputs": [
        {
          "output_type": "execute_result",
          "data": {
            "text/plain": [
              "0    334065\n",
              "1    132517\n",
              "3      4141\n",
              "5      2219\n",
              "2        12\n",
              "4        10\n",
              "6         8\n",
              "Name: level, dtype: int64"
            ]
          },
          "metadata": {},
          "execution_count": 11
        }
      ]
    },
    {
      "cell_type": "code",
      "metadata": {
        "id": "-JMlvgUil7kM"
      },
      "source": [
        "def pre(df):\n",
        "  df = df.str.lower()\n",
        "  word = ['mon','tue','wed','thu','fri','sat','sun','jan','feb','mar','apr','may','jun','jul','aug','sep','oct','nov','dec']\n",
        "  df = df.apply(lambda x: re.sub(r'[-=+,#/\\?:^$.@*\\\"※~&%ㆍ!』\\\\‘|\\(\\)\\[\\]\\<\\>`\\'…》]',' ',x))\n",
        "  df = df.apply(lambda x: ' '.join([w for w in x.split() if w not in (word)]))\n",
        "  df = df.apply(lambda x: re.sub(r'[^a-zA-Zㄱ-ㅣ가-힣0-9:=\\s\\(\\)./,\\<\\>]+',' ',x))\n",
        "  df = df.str.replace(r'[0-9]', '')\n",
        "\n",
        "  return df"
      ],
      "execution_count": 12,
      "outputs": []
    },
    {
      "cell_type": "code",
      "metadata": {
        "id": "tm3G-D2fmVXs"
      },
      "source": [
        "train['full_log'] = pre(train.full_log)\n",
        "test['full_log'] = pre(test.full_log)"
      ],
      "execution_count": 13,
      "outputs": []
    },
    {
      "cell_type": "code",
      "metadata": {
        "id": "sDoRDlQ4c3VE"
      },
      "source": [
        "train_text = list(train['full_log'])\n",
        "train_level = np.array(train['level'])"
      ],
      "execution_count": 14,
      "outputs": []
    },
    {
      "cell_type": "markdown",
      "metadata": {
        "id": "0HKvPRWhBnu6"
      },
      "source": [
        "> **토큰 벡터화**"
      ]
    },
    {
      "cell_type": "code",
      "metadata": {
        "id": "ciLPP8BFNbr8"
      },
      "source": [
        "# CountVectorizer로 벡터화\n",
        "vectorizer = CountVectorizer(analyzer='word', max_features=10000)\n",
        "\n",
        "train_features = vectorizer.fit_transform(train_text)"
      ],
      "execution_count": 15,
      "outputs": []
    },
    {
      "cell_type": "code",
      "metadata": {
        "colab": {
          "base_uri": "https://localhost:8080/"
        },
        "id": "a_LXJeYNdP8A",
        "outputId": "d643345a-b00e-43f2-dc9d-69b156075632"
      },
      "source": [
        "train_features.shape"
      ],
      "execution_count": 16,
      "outputs": [
        {
          "output_type": "execute_result",
          "data": {
            "text/plain": [
              "(472972, 10000)"
            ]
          },
          "metadata": {},
          "execution_count": 16
        }
      ]
    },
    {
      "cell_type": "code",
      "metadata": {
        "id": "_uT3IQEfj_ad"
      },
      "source": [
        "#TfidfVectorizer로 벡터화\n",
        "\n",
        "tf_vectorizer = TfidfVectorizer(analyzer=\"word\", max_features=10000)\n",
        "\n",
        "train_Tfid = tf_vectorizer.fit_transform(train_text)"
      ],
      "execution_count": 17,
      "outputs": []
    },
    {
      "cell_type": "code",
      "metadata": {
        "colab": {
          "base_uri": "https://localhost:8080/"
        },
        "id": "_JGPqbJ8BvEo",
        "outputId": "e63b08ee-ef78-4aee-ccd6-6773e9978593"
      },
      "source": [
        "train_Tfid.shape"
      ],
      "execution_count": 18,
      "outputs": [
        {
          "output_type": "execute_result",
          "data": {
            "text/plain": [
              "(472972, 10000)"
            ]
          },
          "metadata": {},
          "execution_count": 18
        }
      ]
    },
    {
      "cell_type": "markdown",
      "metadata": {
        "id": "33mgbiV6WGJh"
      },
      "source": [
        "# **3. 모델링 (Modeling)**"
      ]
    },
    {
      "cell_type": "markdown",
      "metadata": {
        "id": "hJ02HO0YjLjG"
      },
      "source": [
        "## **3-1. Random Forest Classifier**"
      ]
    },
    {
      "cell_type": "code",
      "metadata": {
        "id": "el__hTZndvzX"
      },
      "source": [
        "# 훈련 데이터 셋과 검증 데이터 셋으로 분리\n",
        "\n",
        "X_train, X_val, y_train, y_val = train_test_split(train_features, train_level, test_size=0.2, random_state=2)"
      ],
      "execution_count": 19,
      "outputs": []
    },
    {
      "cell_type": "code",
      "metadata": {
        "colab": {
          "base_uri": "https://localhost:8080/"
        },
        "id": "Gz-B-KtveDtv",
        "outputId": "6c366e45-f3e0-4e16-fb37-754130471f3e"
      },
      "source": [
        "# RandomForestClassifier로 모델링 => model_rf\n",
        "\n",
        "model_rf = RandomForestClassifier(n_estimators=100,\n",
        "                                  max_depth=5,\n",
        "                                  class_weight='balanced',\n",
        "                                  random_state=2)\n",
        "model_rf.fit(X_train, y_train)"
      ],
      "execution_count": 20,
      "outputs": [
        {
          "output_type": "execute_result",
          "data": {
            "text/plain": [
              "RandomForestClassifier(bootstrap=True, ccp_alpha=0.0, class_weight='balanced',\n",
              "                       criterion='gini', max_depth=5, max_features='auto',\n",
              "                       max_leaf_nodes=None, max_samples=None,\n",
              "                       min_impurity_decrease=0.0, min_impurity_split=None,\n",
              "                       min_samples_leaf=1, min_samples_split=2,\n",
              "                       min_weight_fraction_leaf=0.0, n_estimators=100,\n",
              "                       n_jobs=None, oob_score=False, random_state=2, verbose=0,\n",
              "                       warm_start=False)"
            ]
          },
          "metadata": {},
          "execution_count": 20
        }
      ]
    },
    {
      "cell_type": "code",
      "metadata": {
        "colab": {
          "base_uri": "https://localhost:8080/"
        },
        "id": "TbKdEI0keZYF",
        "outputId": "397c3257-9637-40d6-bbaa-4b90903dfe00"
      },
      "source": [
        "# model_rf 모델 검증\n",
        "\n",
        "model_rf.score(X_val, y_val)"
      ],
      "execution_count": 21,
      "outputs": [
        {
          "output_type": "execute_result",
          "data": {
            "text/plain": [
              "0.9182726359744172"
            ]
          },
          "metadata": {},
          "execution_count": 21
        }
      ]
    },
    {
      "cell_type": "code",
      "metadata": {
        "colab": {
          "base_uri": "https://localhost:8080/",
          "height": 235
        },
        "id": "nd_Wt1-qelXf",
        "outputId": "ed35ca6e-f196-45d8-fe16-775e01f4ed12"
      },
      "source": [
        "# crosstab으로 확인\n",
        "\n",
        "pred_rf = model_rf.predict(X_val)\n",
        "crosstab = pd.crosstab(y_val, pred_rf, rownames=['real'], colnames=['pred'])\n",
        "crosstab"
      ],
      "execution_count": 22,
      "outputs": [
        {
          "output_type": "execute_result",
          "data": {
            "text/html": [
              "<div>\n",
              "<style scoped>\n",
              "    .dataframe tbody tr th:only-of-type {\n",
              "        vertical-align: middle;\n",
              "    }\n",
              "\n",
              "    .dataframe tbody tr th {\n",
              "        vertical-align: top;\n",
              "    }\n",
              "\n",
              "    .dataframe thead th {\n",
              "        text-align: right;\n",
              "    }\n",
              "</style>\n",
              "<table border=\"1\" class=\"dataframe\">\n",
              "  <thead>\n",
              "    <tr style=\"text-align: right;\">\n",
              "      <th>pred</th>\n",
              "      <th>0</th>\n",
              "      <th>1</th>\n",
              "      <th>2</th>\n",
              "      <th>3</th>\n",
              "      <th>4</th>\n",
              "      <th>5</th>\n",
              "      <th>6</th>\n",
              "    </tr>\n",
              "    <tr>\n",
              "      <th>real</th>\n",
              "      <th></th>\n",
              "      <th></th>\n",
              "      <th></th>\n",
              "      <th></th>\n",
              "      <th></th>\n",
              "      <th></th>\n",
              "      <th></th>\n",
              "    </tr>\n",
              "  </thead>\n",
              "  <tbody>\n",
              "    <tr>\n",
              "      <th>0</th>\n",
              "      <td>62220</td>\n",
              "      <td>0</td>\n",
              "      <td>12</td>\n",
              "      <td>679</td>\n",
              "      <td>2</td>\n",
              "      <td>61</td>\n",
              "      <td>3766</td>\n",
              "    </tr>\n",
              "    <tr>\n",
              "      <th>1</th>\n",
              "      <td>49</td>\n",
              "      <td>23408</td>\n",
              "      <td>18</td>\n",
              "      <td>2974</td>\n",
              "      <td>0</td>\n",
              "      <td>101</td>\n",
              "      <td>16</td>\n",
              "    </tr>\n",
              "    <tr>\n",
              "      <th>3</th>\n",
              "      <td>0</td>\n",
              "      <td>0</td>\n",
              "      <td>0</td>\n",
              "      <td>817</td>\n",
              "      <td>0</td>\n",
              "      <td>40</td>\n",
              "      <td>0</td>\n",
              "    </tr>\n",
              "    <tr>\n",
              "      <th>4</th>\n",
              "      <td>0</td>\n",
              "      <td>0</td>\n",
              "      <td>0</td>\n",
              "      <td>0</td>\n",
              "      <td>3</td>\n",
              "      <td>0</td>\n",
              "      <td>0</td>\n",
              "    </tr>\n",
              "    <tr>\n",
              "      <th>5</th>\n",
              "      <td>8</td>\n",
              "      <td>0</td>\n",
              "      <td>1</td>\n",
              "      <td>3</td>\n",
              "      <td>0</td>\n",
              "      <td>416</td>\n",
              "      <td>1</td>\n",
              "    </tr>\n",
              "  </tbody>\n",
              "</table>\n",
              "</div>"
            ],
            "text/plain": [
              "pred      0      1   2     3  4    5     6\n",
              "real                                      \n",
              "0     62220      0  12   679  2   61  3766\n",
              "1        49  23408  18  2974  0  101    16\n",
              "3         0      0   0   817  0   40     0\n",
              "4         0      0   0     0  3    0     0\n",
              "5         8      0   1     3  0  416     1"
            ]
          },
          "metadata": {},
          "execution_count": 22
        }
      ]
    },
    {
      "cell_type": "code",
      "metadata": {
        "colab": {
          "base_uri": "https://localhost:8080/"
        },
        "id": "h0czY8EXe_ii",
        "outputId": "c33aef94-6bfa-469c-c756-1e2a80abf82e"
      },
      "source": [
        "# 새로운 위험요소에 대한 가정 추가 => 예측치의 예측 확률이 0.90이하인 경우, 즉 확신이 없을 경우 이상치로 판단\n",
        "\n",
        "preds = model_rf.predict(X_val)\n",
        "probas = model_rf.predict_proba(X_val)\n",
        "print(preds.shape)\n",
        "print(probas.shape)"
      ],
      "execution_count": 23,
      "outputs": [
        {
          "output_type": "stream",
          "name": "stdout",
          "text": [
            "(94595,)\n",
            "(94595, 7)\n"
          ]
        }
      ]
    },
    {
      "cell_type": "code",
      "metadata": {
        "colab": {
          "base_uri": "https://localhost:8080/",
          "height": 235
        },
        "id": "-9XTJg5eZihs",
        "outputId": "1eba9384-574f-4bbb-9706-bd266ec3a34b"
      },
      "source": [
        "preds[np.where(np.max(probas, axis=1) < 0.90)] = 7\n",
        "new_crosstab = pd.crosstab(y_val, preds, rownames=['real'], colnames=['pred'])\n",
        "new_crosstab"
      ],
      "execution_count": 24,
      "outputs": [
        {
          "output_type": "execute_result",
          "data": {
            "text/html": [
              "<div>\n",
              "<style scoped>\n",
              "    .dataframe tbody tr th:only-of-type {\n",
              "        vertical-align: middle;\n",
              "    }\n",
              "\n",
              "    .dataframe tbody tr th {\n",
              "        vertical-align: top;\n",
              "    }\n",
              "\n",
              "    .dataframe thead th {\n",
              "        text-align: right;\n",
              "    }\n",
              "</style>\n",
              "<table border=\"1\" class=\"dataframe\">\n",
              "  <thead>\n",
              "    <tr style=\"text-align: right;\">\n",
              "      <th>pred</th>\n",
              "      <th>1</th>\n",
              "      <th>7</th>\n",
              "    </tr>\n",
              "    <tr>\n",
              "      <th>real</th>\n",
              "      <th></th>\n",
              "      <th></th>\n",
              "    </tr>\n",
              "  </thead>\n",
              "  <tbody>\n",
              "    <tr>\n",
              "      <th>0</th>\n",
              "      <td>0</td>\n",
              "      <td>66740</td>\n",
              "    </tr>\n",
              "    <tr>\n",
              "      <th>1</th>\n",
              "      <td>15569</td>\n",
              "      <td>10997</td>\n",
              "    </tr>\n",
              "    <tr>\n",
              "      <th>3</th>\n",
              "      <td>0</td>\n",
              "      <td>857</td>\n",
              "    </tr>\n",
              "    <tr>\n",
              "      <th>4</th>\n",
              "      <td>0</td>\n",
              "      <td>3</td>\n",
              "    </tr>\n",
              "    <tr>\n",
              "      <th>5</th>\n",
              "      <td>0</td>\n",
              "      <td>429</td>\n",
              "    </tr>\n",
              "  </tbody>\n",
              "</table>\n",
              "</div>"
            ],
            "text/plain": [
              "pred      1      7\n",
              "real              \n",
              "0         0  66740\n",
              "1     15569  10997\n",
              "3         0    857\n",
              "4         0      3\n",
              "5         0    429"
            ]
          },
          "metadata": {},
          "execution_count": 24
        }
      ]
    },
    {
      "cell_type": "code",
      "metadata": {
        "id": "zhYQ02YEiEKY"
      },
      "source": [
        "# test 데이터 전처리\n",
        "\n",
        "test_text = list(test['full_log'])\n",
        "ids = list(test['id'])"
      ],
      "execution_count": 25,
      "outputs": []
    },
    {
      "cell_type": "code",
      "metadata": {
        "id": "iaIxWfQeiLa6"
      },
      "source": [
        "# test 데이터 vectorizer\n",
        "\n",
        "test_features=vectorizer.transform(test_text)"
      ],
      "execution_count": 26,
      "outputs": []
    },
    {
      "cell_type": "code",
      "metadata": {
        "id": "cmQaEt47iU4p"
      },
      "source": [
        "results = model_rf.predict(test_features)\n",
        "results_proba = model_rf.predict_proba(test_features)"
      ],
      "execution_count": 27,
      "outputs": []
    },
    {
      "cell_type": "code",
      "metadata": {
        "id": "fva1GjNwZ0gS"
      },
      "source": [
        "results[np.where(np.max(results_proba, axis=1) < 0.9)] = 7"
      ],
      "execution_count": 28,
      "outputs": []
    },
    {
      "cell_type": "code",
      "metadata": {
        "id": "BFAT6pV_iamw"
      },
      "source": [
        "sample_submit['level']=results"
      ],
      "execution_count": 29,
      "outputs": []
    },
    {
      "cell_type": "code",
      "metadata": {
        "colab": {
          "base_uri": "https://localhost:8080/"
        },
        "id": "JXC_8yD7iakD",
        "outputId": "6c6cd25e-ed7d-4e04-adf4-2f0a3dccfbb0"
      },
      "source": [
        "sample_submit['level'].value_counts()"
      ],
      "execution_count": 30,
      "outputs": [
        {
          "output_type": "execute_result",
          "data": {
            "text/plain": [
              "7    1187780\n",
              "1     231136\n",
              "Name: level, dtype: int64"
            ]
          },
          "metadata": {},
          "execution_count": 30
        }
      ]
    },
    {
      "cell_type": "markdown",
      "metadata": {
        "id": "fuHPSO9gjPQQ"
      },
      "source": [
        "## **3-2. Tfid + Random Forest Classifier**"
      ]
    },
    {
      "cell_type": "code",
      "metadata": {
        "id": "GTtioY-xkxCe"
      },
      "source": [
        "# 훈련 데이터 셋과 검증 데이터 셋으로 분리\n",
        "\n",
        "X_train, X_val, y_train, y_val = train_test_split(train_Tfid, train_level, test_size=0.2, random_state=2)"
      ],
      "execution_count": 31,
      "outputs": []
    },
    {
      "cell_type": "code",
      "metadata": {
        "colab": {
          "base_uri": "https://localhost:8080/"
        },
        "id": "UtayLcZkkbIR",
        "outputId": "31fa89e0-945a-4f7a-b309-5d1eb98ee916"
      },
      "source": [
        "model_rf2 = RandomForestClassifier(n_estimators=100, class_weight='balanced', random_state=2)\n",
        "model_rf2.fit(X_train, y_train)"
      ],
      "execution_count": 32,
      "outputs": [
        {
          "output_type": "execute_result",
          "data": {
            "text/plain": [
              "RandomForestClassifier(bootstrap=True, ccp_alpha=0.0, class_weight='balanced',\n",
              "                       criterion='gini', max_depth=None, max_features='auto',\n",
              "                       max_leaf_nodes=None, max_samples=None,\n",
              "                       min_impurity_decrease=0.0, min_impurity_split=None,\n",
              "                       min_samples_leaf=1, min_samples_split=2,\n",
              "                       min_weight_fraction_leaf=0.0, n_estimators=100,\n",
              "                       n_jobs=None, oob_score=False, random_state=2, verbose=0,\n",
              "                       warm_start=False)"
            ]
          },
          "metadata": {},
          "execution_count": 32
        }
      ]
    },
    {
      "cell_type": "code",
      "metadata": {
        "colab": {
          "base_uri": "https://localhost:8080/"
        },
        "id": "WFMFsTcElCXV",
        "outputId": "1f29595f-5a67-43c0-d331-cf2af1c10f35"
      },
      "source": [
        "# model_rf2 모델 검증\n",
        "\n",
        "model_rf2.score(X_val, y_val)"
      ],
      "execution_count": 33,
      "outputs": [
        {
          "output_type": "execute_result",
          "data": {
            "text/plain": [
              "0.9975368676991384"
            ]
          },
          "metadata": {},
          "execution_count": 33
        }
      ]
    },
    {
      "cell_type": "code",
      "metadata": {
        "colab": {
          "base_uri": "https://localhost:8080/",
          "height": 235
        },
        "id": "OYxrS_dvlI-D",
        "outputId": "5b7f6abe-afee-4053-fb94-af27ad08f1ad"
      },
      "source": [
        "# crosstab으로 확인\n",
        "\n",
        "pred_rf2 = model_rf2.predict(X_val)\n",
        "crosstab = pd.crosstab(y_val, pred_rf2, rownames=['real'], colnames=['pred'])\n",
        "crosstab"
      ],
      "execution_count": 34,
      "outputs": [
        {
          "output_type": "execute_result",
          "data": {
            "text/html": [
              "<div>\n",
              "<style scoped>\n",
              "    .dataframe tbody tr th:only-of-type {\n",
              "        vertical-align: middle;\n",
              "    }\n",
              "\n",
              "    .dataframe tbody tr th {\n",
              "        vertical-align: top;\n",
              "    }\n",
              "\n",
              "    .dataframe thead th {\n",
              "        text-align: right;\n",
              "    }\n",
              "</style>\n",
              "<table border=\"1\" class=\"dataframe\">\n",
              "  <thead>\n",
              "    <tr style=\"text-align: right;\">\n",
              "      <th>pred</th>\n",
              "      <th>0</th>\n",
              "      <th>1</th>\n",
              "      <th>2</th>\n",
              "      <th>3</th>\n",
              "      <th>4</th>\n",
              "      <th>5</th>\n",
              "    </tr>\n",
              "    <tr>\n",
              "      <th>real</th>\n",
              "      <th></th>\n",
              "      <th></th>\n",
              "      <th></th>\n",
              "      <th></th>\n",
              "      <th></th>\n",
              "      <th></th>\n",
              "    </tr>\n",
              "  </thead>\n",
              "  <tbody>\n",
              "    <tr>\n",
              "      <th>0</th>\n",
              "      <td>66646</td>\n",
              "      <td>82</td>\n",
              "      <td>0</td>\n",
              "      <td>1</td>\n",
              "      <td>0</td>\n",
              "      <td>11</td>\n",
              "    </tr>\n",
              "    <tr>\n",
              "      <th>1</th>\n",
              "      <td>115</td>\n",
              "      <td>26444</td>\n",
              "      <td>1</td>\n",
              "      <td>0</td>\n",
              "      <td>0</td>\n",
              "      <td>6</td>\n",
              "    </tr>\n",
              "    <tr>\n",
              "      <th>3</th>\n",
              "      <td>1</td>\n",
              "      <td>0</td>\n",
              "      <td>0</td>\n",
              "      <td>855</td>\n",
              "      <td>0</td>\n",
              "      <td>1</td>\n",
              "    </tr>\n",
              "    <tr>\n",
              "      <th>4</th>\n",
              "      <td>0</td>\n",
              "      <td>0</td>\n",
              "      <td>0</td>\n",
              "      <td>0</td>\n",
              "      <td>3</td>\n",
              "      <td>0</td>\n",
              "    </tr>\n",
              "    <tr>\n",
              "      <th>5</th>\n",
              "      <td>15</td>\n",
              "      <td>0</td>\n",
              "      <td>0</td>\n",
              "      <td>0</td>\n",
              "      <td>0</td>\n",
              "      <td>414</td>\n",
              "    </tr>\n",
              "  </tbody>\n",
              "</table>\n",
              "</div>"
            ],
            "text/plain": [
              "pred      0      1  2    3  4    5\n",
              "real                              \n",
              "0     66646     82  0    1  0   11\n",
              "1       115  26444  1    0  0    6\n",
              "3         1      0  0  855  0    1\n",
              "4         0      0  0    0  3    0\n",
              "5        15      0  0    0  0  414"
            ]
          },
          "metadata": {},
          "execution_count": 34
        }
      ]
    },
    {
      "cell_type": "markdown",
      "metadata": {
        "id": "fRrZD-13lx6O"
      },
      "source": [
        "## **3-3. Extra Trees Classifier**"
      ]
    },
    {
      "cell_type": "code",
      "metadata": {
        "id": "D3sOCyjumZeu"
      },
      "source": [
        "model_et = ExtraTreesClassifier(n_estimators=100, random_state=2)"
      ],
      "execution_count": 35,
      "outputs": []
    },
    {
      "cell_type": "code",
      "metadata": {
        "colab": {
          "base_uri": "https://localhost:8080/"
        },
        "id": "8nC4UCUbnDfH",
        "outputId": "1c316376-f49f-41c6-908e-d86c42bfffa2"
      },
      "source": [
        "model_et.fit(X_train, y_train)"
      ],
      "execution_count": 36,
      "outputs": [
        {
          "output_type": "execute_result",
          "data": {
            "text/plain": [
              "ExtraTreesClassifier(bootstrap=False, ccp_alpha=0.0, class_weight=None,\n",
              "                     criterion='gini', max_depth=None, max_features='auto',\n",
              "                     max_leaf_nodes=None, max_samples=None,\n",
              "                     min_impurity_decrease=0.0, min_impurity_split=None,\n",
              "                     min_samples_leaf=1, min_samples_split=2,\n",
              "                     min_weight_fraction_leaf=0.0, n_estimators=100,\n",
              "                     n_jobs=None, oob_score=False, random_state=2, verbose=0,\n",
              "                     warm_start=False)"
            ]
          },
          "metadata": {},
          "execution_count": 36
        }
      ]
    },
    {
      "cell_type": "code",
      "metadata": {
        "colab": {
          "base_uri": "https://localhost:8080/"
        },
        "id": "s2qpxvbAncMC",
        "outputId": "e4325bbc-ba5c-4565-e09a-d07fa769aa82"
      },
      "source": [
        "# model_et 모델 검증\n",
        "\n",
        "model_et.score(X_val, y_val)"
      ],
      "execution_count": 37,
      "outputs": [
        {
          "output_type": "execute_result",
          "data": {
            "text/plain": [
              "0.9979068661134309"
            ]
          },
          "metadata": {},
          "execution_count": 37
        }
      ]
    },
    {
      "cell_type": "code",
      "metadata": {
        "colab": {
          "base_uri": "https://localhost:8080/",
          "height": 235
        },
        "id": "vxQF6wU4nkzq",
        "outputId": "b51a06b4-7d69-4baf-dec6-a53a45eee2b3"
      },
      "source": [
        "# crosstab으로 확인\n",
        "\n",
        "pred_et = model_et.predict(X_val)\n",
        "crosstab = pd.crosstab(y_val, pred_et, rownames=['real'], colnames=['pred'])\n",
        "crosstab"
      ],
      "execution_count": 38,
      "outputs": [
        {
          "output_type": "execute_result",
          "data": {
            "text/html": [
              "<div>\n",
              "<style scoped>\n",
              "    .dataframe tbody tr th:only-of-type {\n",
              "        vertical-align: middle;\n",
              "    }\n",
              "\n",
              "    .dataframe tbody tr th {\n",
              "        vertical-align: top;\n",
              "    }\n",
              "\n",
              "    .dataframe thead th {\n",
              "        text-align: right;\n",
              "    }\n",
              "</style>\n",
              "<table border=\"1\" class=\"dataframe\">\n",
              "  <thead>\n",
              "    <tr style=\"text-align: right;\">\n",
              "      <th>pred</th>\n",
              "      <th>0</th>\n",
              "      <th>1</th>\n",
              "      <th>3</th>\n",
              "      <th>4</th>\n",
              "      <th>5</th>\n",
              "    </tr>\n",
              "    <tr>\n",
              "      <th>real</th>\n",
              "      <th></th>\n",
              "      <th></th>\n",
              "      <th></th>\n",
              "      <th></th>\n",
              "      <th></th>\n",
              "    </tr>\n",
              "  </thead>\n",
              "  <tbody>\n",
              "    <tr>\n",
              "      <th>0</th>\n",
              "      <td>66694</td>\n",
              "      <td>45</td>\n",
              "      <td>1</td>\n",
              "      <td>0</td>\n",
              "      <td>0</td>\n",
              "    </tr>\n",
              "    <tr>\n",
              "      <th>1</th>\n",
              "      <td>134</td>\n",
              "      <td>26431</td>\n",
              "      <td>0</td>\n",
              "      <td>0</td>\n",
              "      <td>1</td>\n",
              "    </tr>\n",
              "    <tr>\n",
              "      <th>3</th>\n",
              "      <td>1</td>\n",
              "      <td>0</td>\n",
              "      <td>855</td>\n",
              "      <td>0</td>\n",
              "      <td>1</td>\n",
              "    </tr>\n",
              "    <tr>\n",
              "      <th>4</th>\n",
              "      <td>0</td>\n",
              "      <td>0</td>\n",
              "      <td>0</td>\n",
              "      <td>3</td>\n",
              "      <td>0</td>\n",
              "    </tr>\n",
              "    <tr>\n",
              "      <th>5</th>\n",
              "      <td>15</td>\n",
              "      <td>0</td>\n",
              "      <td>0</td>\n",
              "      <td>0</td>\n",
              "      <td>414</td>\n",
              "    </tr>\n",
              "  </tbody>\n",
              "</table>\n",
              "</div>"
            ],
            "text/plain": [
              "pred      0      1    3  4    5\n",
              "real                           \n",
              "0     66694     45    1  0    0\n",
              "1       134  26431    0  0    1\n",
              "3         1      0  855  0    1\n",
              "4         0      0    0  3    0\n",
              "5        15      0    0  0  414"
            ]
          },
          "metadata": {},
          "execution_count": 38
        }
      ]
    },
    {
      "cell_type": "code",
      "metadata": {
        "colab": {
          "base_uri": "https://localhost:8080/"
        },
        "id": "Qp2HR8Q8od9F",
        "outputId": "faa3e78a-6356-49b3-fb32-de051859722f"
      },
      "source": [
        "# 새로운 위험요소에 대한 가정 추가 => 예측치의 예측 확률이 0.90이하인 경우, 즉 확신이 없을 경우 이상치로 판단\n",
        "\n",
        "preds = model_et.predict(X_val)\n",
        "probas = model_et.predict_proba(X_val)\n",
        "print(preds.shape)\n",
        "print(probas.shape)"
      ],
      "execution_count": 39,
      "outputs": [
        {
          "output_type": "stream",
          "name": "stdout",
          "text": [
            "(94595,)\n",
            "(94595, 7)\n"
          ]
        }
      ]
    },
    {
      "cell_type": "code",
      "metadata": {
        "colab": {
          "base_uri": "https://localhost:8080/",
          "height": 235
        },
        "id": "JLtFqyzhon4A",
        "outputId": "e3625dc1-f4d0-4173-a36d-39182629748d"
      },
      "source": [
        "preds[np.where(np.max(probas, axis=1) < 0.90)] = 7\n",
        "new_crosstab = pd.crosstab(y_val, preds, rownames=['real'], colnames=['pred'])\n",
        "new_crosstab"
      ],
      "execution_count": 40,
      "outputs": [
        {
          "output_type": "execute_result",
          "data": {
            "text/html": [
              "<div>\n",
              "<style scoped>\n",
              "    .dataframe tbody tr th:only-of-type {\n",
              "        vertical-align: middle;\n",
              "    }\n",
              "\n",
              "    .dataframe tbody tr th {\n",
              "        vertical-align: top;\n",
              "    }\n",
              "\n",
              "    .dataframe thead th {\n",
              "        text-align: right;\n",
              "    }\n",
              "</style>\n",
              "<table border=\"1\" class=\"dataframe\">\n",
              "  <thead>\n",
              "    <tr style=\"text-align: right;\">\n",
              "      <th>pred</th>\n",
              "      <th>0</th>\n",
              "      <th>1</th>\n",
              "      <th>3</th>\n",
              "      <th>4</th>\n",
              "      <th>5</th>\n",
              "      <th>7</th>\n",
              "    </tr>\n",
              "    <tr>\n",
              "      <th>real</th>\n",
              "      <th></th>\n",
              "      <th></th>\n",
              "      <th></th>\n",
              "      <th></th>\n",
              "      <th></th>\n",
              "      <th></th>\n",
              "    </tr>\n",
              "  </thead>\n",
              "  <tbody>\n",
              "    <tr>\n",
              "      <th>0</th>\n",
              "      <td>66540</td>\n",
              "      <td>28</td>\n",
              "      <td>1</td>\n",
              "      <td>0</td>\n",
              "      <td>0</td>\n",
              "      <td>171</td>\n",
              "    </tr>\n",
              "    <tr>\n",
              "      <th>1</th>\n",
              "      <td>46</td>\n",
              "      <td>26418</td>\n",
              "      <td>0</td>\n",
              "      <td>0</td>\n",
              "      <td>1</td>\n",
              "      <td>101</td>\n",
              "    </tr>\n",
              "    <tr>\n",
              "      <th>3</th>\n",
              "      <td>1</td>\n",
              "      <td>0</td>\n",
              "      <td>855</td>\n",
              "      <td>0</td>\n",
              "      <td>1</td>\n",
              "      <td>0</td>\n",
              "    </tr>\n",
              "    <tr>\n",
              "      <th>4</th>\n",
              "      <td>0</td>\n",
              "      <td>0</td>\n",
              "      <td>0</td>\n",
              "      <td>3</td>\n",
              "      <td>0</td>\n",
              "      <td>0</td>\n",
              "    </tr>\n",
              "    <tr>\n",
              "      <th>5</th>\n",
              "      <td>6</td>\n",
              "      <td>0</td>\n",
              "      <td>0</td>\n",
              "      <td>0</td>\n",
              "      <td>413</td>\n",
              "      <td>10</td>\n",
              "    </tr>\n",
              "  </tbody>\n",
              "</table>\n",
              "</div>"
            ],
            "text/plain": [
              "pred      0      1    3  4    5    7\n",
              "real                                \n",
              "0     66540     28    1  0    0  171\n",
              "1        46  26418    0  0    1  101\n",
              "3         1      0  855  0    1    0\n",
              "4         0      0    0  3    0    0\n",
              "5         6      0    0  0  413   10"
            ]
          },
          "metadata": {},
          "execution_count": 40
        }
      ]
    },
    {
      "cell_type": "code",
      "metadata": {
        "id": "cyGCMIQloq1L"
      },
      "source": [
        "# test 데이터 전처리\n",
        "\n",
        "test_text = list(test['full_log'])\n",
        "ids = list(test['id'])"
      ],
      "execution_count": 41,
      "outputs": []
    },
    {
      "cell_type": "code",
      "metadata": {
        "id": "tTAOIFCWoxXW"
      },
      "source": [
        "#test 데이터 vectorizer\n",
        "\n",
        "test_features = vectorizer.transform(test_text)"
      ],
      "execution_count": 42,
      "outputs": []
    },
    {
      "cell_type": "code",
      "metadata": {
        "id": "OxXyPNGoqADL"
      },
      "source": [
        "results = model_et.predict(test_features)\n",
        "results_proba = model_et.predict_proba(test_features)"
      ],
      "execution_count": 43,
      "outputs": []
    },
    {
      "cell_type": "code",
      "metadata": {
        "id": "ox-RpZWSqCaE"
      },
      "source": [
        "results[np.where(np.max(results_proba, axis=1) < 0.9)] = 7"
      ],
      "execution_count": 44,
      "outputs": []
    },
    {
      "cell_type": "code",
      "metadata": {
        "id": "1XgYG4ucqJLo"
      },
      "source": [
        "sample_submit['level']=results"
      ],
      "execution_count": 45,
      "outputs": []
    },
    {
      "cell_type": "code",
      "metadata": {
        "colab": {
          "base_uri": "https://localhost:8080/"
        },
        "id": "EsMxezILqJZ4",
        "outputId": "d5d00cff-a350-4d2d-a1ab-9e27a8c54790"
      },
      "source": [
        "sample_submit['level'].value_counts()"
      ],
      "execution_count": 46,
      "outputs": [
        {
          "output_type": "execute_result",
          "data": {
            "text/plain": [
              "0    946579\n",
              "1    379726\n",
              "7     81794\n",
              "3      7645\n",
              "5      3172\n",
              "Name: level, dtype: int64"
            ]
          },
          "metadata": {},
          "execution_count": 46
        }
      ]
    }
  ]
}